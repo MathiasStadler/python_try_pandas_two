{
 "cells": [
  {
   "cell_type": "markdown",
   "metadata": {},
   "source": [
    "# [FROM HERE](https://pandas.pydata.org/docs/dev/reference/api/pandas.DataFrame.replace.html)\n",
    "\n",
    "## [DataFrame vs. Series](https://pandas.pydata.org/docs/user_guide/dsintro.html)\n",
    "\n",
    "## [pandas-filter](https://builtin.com/data-science/pandas-filter)"
   ]
  },
  {
   "cell_type": "markdown",
   "metadata": {},
   "source": [
    "Fundamentally, data alignment is intrinsic. The link between labels and data will not be broken unless done so explicitly by you."
   ]
  },
  {
   "cell_type": "markdown",
   "metadata": {},
   "source": [
    ">**Series** is a one-dimensional labeled array capable of holding any data type (integers, strings, floating point numbers, Python objects, etc.).\n",
    ">The axis labels are collectively referred to as the index. The basic method to create a Series is to call:"
   ]
  },
  {
   "cell_type": "markdown",
   "metadata": {},
   "source": [
    ">**DataFrame** is a 2-dimensional labeled data structure with columns of potentially different types.\n",
    ">You can think of it like a spreadsheet or SQL table, or a dict of Series objects.\n",
    ">It is generally the most commonly used pandas object."
   ]
  },
  {
   "cell_type": "markdown",
   "metadata": {},
   "source": [
    "[Alert Box Usage Guidelines](https://gist.github.com/DanielKotik/4b81480c479a57e0dd13ac4d153e4451)"
   ]
  },
  {
   "cell_type": "markdown",
   "metadata": {},
   "source": [
    "<div class=\"alert alert-block alert-info\"> \n",
    "<b>NOTE</b> Use blue boxes for Tips and notes. \n",
    "</div>"
   ]
  },
  {
   "cell_type": "markdown",
   "metadata": {},
   "source": [
    "<div class=\"alert alert-block alert-success\"> \n",
    " some specific purpose , like links\n",
    "</div>"
   ]
  },
  {
   "cell_type": "markdown",
   "metadata": {},
   "source": [
    "<div class=\"alert alert-block alert-warning\"> \n",
    " code cells, or use for mathematical formulas if needed.\n",
    " </div>"
   ]
  },
  {
   "cell_type": "markdown",
   "metadata": {},
   "source": [
    "<div class=\"alert alert-block alert-danger\">\n",
    "AVOID\n",
    "</div>"
   ]
  },
  {
   "cell_type": "code",
   "execution_count": null,
   "metadata": {},
   "outputs": [],
   "source": [
    "# sample from web page"
   ]
  },
  {
   "cell_type": "code",
   "execution_count": null,
   "metadata": {},
   "outputs": [],
   "source": [
    "import pandas as pd"
   ]
  },
  {
   "cell_type": "code",
   "execution_count": null,
   "metadata": {},
   "outputs": [],
   "source": [
    "pandas_series = pd.Series([1, 2, 3, 4, 5])\n",
    "\n",
    "# unmodified pandas_series\n",
    "pandas_series\n"
   ]
  },
  {
   "cell_type": "code",
   "execution_count": null,
   "metadata": {},
   "outputs": [],
   "source": [
    "# replace first column with value(int64) with 5\n",
    "# pandas_serie.replace(column,substitute_value)\n",
    "pandas_series.replace(1, 5)\n"
   ]
  },
  {
   "cell_type": "markdown",
   "metadata": {},
   "source": [
    "# GET type of series => A pandas Series has a single dtype."
   ]
  },
  {
   "cell_type": "code",
   "execution_count": null,
   "metadata": {},
   "outputs": [],
   "source": [
    "pandas_series.dtype"
   ]
  },
  {
   "cell_type": "markdown",
   "metadata": {},
   "source": [
    "<div class=\"alert alert-block alert-info\">\n",
    "\n",
    "# Axis labels\n",
    "## Series: index (only axis)\n",
    "\n",
    "## DataFrame: index (rows) and columns\n",
    "</div>"
   ]
  },
  {
   "cell_type": "markdown",
   "metadata": {},
   "source": [
    "# pandas data frame => df"
   ]
  },
  {
   "cell_type": "code",
   "execution_count": null,
   "metadata": {},
   "outputs": [],
   "source": [
    "data_frame = {\n",
    "    \"one\": pd.Series([1.0, 2.0, 3.0], index=[\"a\", \"b\", \"c\"]),\n",
    "    \"two\": pd.Series([1.0, 2.0, 3.0, 4.0], index=[\"a\", \"b\", \"c\", \"d\"]),\n",
    "}\n",
    "\n",
    "data_frame = pd.DataFrame(data_frame)"
   ]
  },
  {
   "cell_type": "code",
   "execution_count": null,
   "metadata": {},
   "outputs": [],
   "source": [
    "data_frame"
   ]
  },
  {
   "cell_type": "markdown",
   "metadata": {},
   "source": [
    "# df change the index = change the order of columns"
   ]
  },
  {
   "cell_type": "code",
   "execution_count": null,
   "metadata": {},
   "outputs": [],
   "source": [
    "pd.DataFrame(d, index=[\"d\", \"b\", \"a\", \"c\"])"
   ]
  },
  {
   "cell_type": "markdown",
   "metadata": {},
   "source": [
    "# select/show  available and non-existent columns "
   ]
  },
  {
   "cell_type": "code",
   "execution_count": null,
   "metadata": {},
   "outputs": [],
   "source": [
    "pd.DataFrame(d, index=[\"d\", \"b\", \"a\"], columns=[\"two\", \"three\"])"
   ]
  },
  {
   "cell_type": "markdown",
   "metadata": {},
   "source": [
    "# Get type of each columns"
   ]
  },
  {
   "cell_type": "markdown",
   "metadata": {},
   "source": [
    "# a simple data frame data as dict"
   ]
  },
  {
   "cell_type": "code",
   "execution_count": null,
   "metadata": {},
   "outputs": [],
   "source": [
    "dict = {\n",
    "    \"one\": pd.Series([1.0, 2.0, 3.0], index=[\"a\", \"b\", \"c\"]),\n",
    "    \"two\": pd.Series([1.0, 2.0, 3.0, 4.0], index=[\"a\", \"b\", \"c\", \"d\"]),\n",
    "}\n",
    "\n",
    "print(type(dict))"
   ]
  },
  {
   "cell_type": "markdown",
   "metadata": {},
   "source": [
    "# create data_frame from dict"
   ]
  },
  {
   "cell_type": "code",
   "execution_count": null,
   "metadata": {},
   "outputs": [],
   "source": [
    "data_frame = pd.DataFrame(dict)\n",
    "\n"
   ]
  },
  {
   "cell_type": "markdown",
   "metadata": {},
   "source": [
    "# show index of data_frame"
   ]
  },
  {
   "cell_type": "code",
   "execution_count": null,
   "metadata": {},
   "outputs": [],
   "source": [
    "# print data_frame index\n",
    "for i in data_frame:\n",
    "    print(i)"
   ]
  },
  {
   "cell_type": "markdown",
   "metadata": {},
   "source": [
    "# length of data_frame\n",
    "## DataFrame: index (rows) and columns"
   ]
  },
  {
   "cell_type": "code",
   "execution_count": null,
   "metadata": {},
   "outputs": [],
   "source": [
    "data_frame_len = len(data_frame)\n",
    "print(\" length/max index/max rows start by zero of data_frame =>  {}\".format(data_frame_len))"
   ]
  },
  {
   "cell_type": "markdown",
   "metadata": {},
   "source": [
    "# loop over through data_frame"
   ]
  },
  {
   "cell_type": "markdown",
   "metadata": {},
   "source": [
    "## index"
   ]
  },
  {
   "cell_type": "code",
   "execution_count": null,
   "metadata": {},
   "outputs": [],
   "source": [
    "for index in data_frame:\n",
    "    print(index)"
   ]
  },
  {
   "cell_type": "markdown",
   "metadata": {},
   "source": [
    "## rows"
   ]
  },
  {
   "cell_type": "code",
   "execution_count": null,
   "metadata": {},
   "outputs": [],
   "source": [
    "for i in range(len(data_frame)):\n",
    "    row = data_frame.iloc\n",
    "    print(\"row => {}\".format(row[0]))\n",
    "    \n",
    "    row.\n",
    "    print(\"{}\".format(row[0].count))"
   ]
  },
  {
   "cell_type": "markdown",
   "metadata": {},
   "source": [
    "# [pandas loop](https://www.freecodecamp.org/news/how-to-iterate-over-rows-with-pandas-loop-through-a-dataframe/)"
   ]
  },
  {
   "cell_type": "code",
   "execution_count": 68,
   "metadata": {},
   "outputs": [
    {
     "name": "stdout",
     "output_type": "stream",
     "text": [
      "0 Mike 18 \n",
      " 1 > Mike False\n",
      "is NOT int\n",
      " 2 > 18 True\n",
      "is int\n",
      "1 Doe 19 \n",
      " 1 > Doe False\n",
      "is NOT int\n",
      " 2 > 19 True\n",
      "is int\n",
      "2 James 29 \n",
      " 1 > James False\n",
      "is NOT int\n",
      " 2 > 29 True\n",
      "is int\n"
     ]
    }
   ],
   "source": [
    "import pandas as pd\n",
    "\n",
    "# create a dataframe\n",
    "data = {'name': ['Mike', 'Doe', 'James'], 'age': [18, 19, 29]}\n",
    "df = pd.DataFrame(data)\n",
    "\n",
    "# loop through the rows using iterrows()\n",
    "for index, row in df.iterrows():\n",
    "    # print(row['name'], row['age'])\n",
    "    # print(index,row.iloc[0], row['age'])\n",
    "    print(\"{} {} {} \".format(index,row.iloc[0], row['age']))\n",
    "    n = 0\n",
    "    for column in row.array:\n",
    "        n=n+1\n",
    "        # print (\" {} > {} {}\" .format(n,column,type(column)))\n",
    "        # print (\" {} > {} {}\" .format(n,column,column.__name__))\n",
    "        print (\" {} > {} {}\" .format(n,column,isinstance(column,int)))\n",
    "        # print( isinstance(column, int) )\n",
    "        if isinstance(column,int):\n",
    "            print(\"is int\")\n",
    "        else:\n",
    "            print(\"is NOT int\")\n",
    "    # columns =row.\n",
    "    # print(columns)"
   ]
  },
  {
   "cell_type": "markdown",
   "metadata": {},
   "source": [
    "[save for next step](https://builtin.com/data-science/pandas-filter)"
   ]
  },
  {
   "cell_type": "code",
   "execution_count": null,
   "metadata": {},
   "outputs": [],
   "source": [
    "\n",
    "\n",
    "\n",
    "\n",
    "# i = integer key , loc = line of code\n",
    "data_frame.iloc\n",
    "\n",
    "# we use the combination of *range* and *len* for get a integer\n",
    "for i in range(len(data_frame)):\n",
    "    row = data_frame.iloc[i]\n",
    "    \n",
    "    column =  row['one']\n",
    "    print(\"column:row =>{}:{}\".format(column,row))\n",
    "\n",
    "    # if (type(column) == int):\n",
    "    #     print(\"type int == {}\".format(type(column)))\n",
    "    # if (type(column) == str):\n",
    "    #     print(\"type str == {}\".format(type(column)))\n",
    "\n"
   ]
  },
  {
   "cell_type": "code",
   "execution_count": null,
   "metadata": {},
   "outputs": [],
   "source": [
    "for i in range(len(df_data)):\n",
    "    row = df_data.iloc[i]\n",
    "    # if Class == 'versicolor' and i < 70:\n",
    "    column =  row['YearsCode']\n",
    "    if (type(column) == int):\n",
    "        print(\"type int == {}\".format(type(column)))\n",
    "    if (type(column) == str):\n",
    "        print(\"type str == {}\".format(type(column)))\n",
    "\n",
    "        try:\n",
    "            column = int(column)\n",
    "        except (ValueError, TypeError):\n",
    "            print(\"Error\")\n",
    "            pass \n",
    "\n",
    "    print('{} {}'.format(column , type(column)))"
   ]
  }
 ],
 "metadata": {
  "kernelspec": {
   "display_name": ".venv",
   "language": "python",
   "name": "python3"
  },
  "language_info": {
   "codemirror_mode": {
    "name": "ipython",
    "version": 3
   },
   "file_extension": ".py",
   "mimetype": "text/x-python",
   "name": "python",
   "nbconvert_exporter": "python",
   "pygments_lexer": "ipython3",
   "version": "3.11.2"
  }
 },
 "nbformat": 4,
 "nbformat_minor": 2
}
