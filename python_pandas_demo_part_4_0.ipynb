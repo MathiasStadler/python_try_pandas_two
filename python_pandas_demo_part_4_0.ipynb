{
 "cells": [
  {
   "cell_type": "markdown",
   "metadata": {},
   "source": [
    "# [FROM HERE](https://www.youtube.com/watch?v=ZyhVh-qRZPA&list=PL-osiE80TeTsWmV9i9c58mdDCSskIFdDS)\n",
    "\n",
    "# [PART 4 - Python Pandas Tutorial (Part 4): Filtering - Using Conditionals to Filter Rows and Columns](https://www.youtube.com/watch?v=Lw2rlcxScZY&list=PL-osiE80TeTsWmV9i9c58mdDCSskIFdDS&index=4)\n",
    "\n",
    "# [Data FOUND/FROM HERE => ](https://survey.stackoverflow.co/) "
   ]
  },
  {
   "cell_type": "markdown",
   "metadata": {},
   "source": [
    "# vid startup"
   ]
  },
  {
   "cell_type": "code",
   "execution_count": null,
   "metadata": {},
   "outputs": [],
   "source": [
    "import pandas as pd"
   ]
  },
  {
   "cell_type": "code",
   "execution_count": null,
   "metadata": {},
   "outputs": [],
   "source": [
    "people = {\n",
    "    \"first\": [\"Corny\", \"Jane\", \"John\"],\n",
    "    \"email\": ['CorneyMSchafer@gmail.com' , 'JaneDoe@email.com', 'JohnDoe@email.com'],\n",
    "    \"last\": ['Schafer', 'Doe', 'Doe'],\n",
    "}\n"
   ]
  },
  {
   "cell_type": "code",
   "execution_count": null,
   "metadata": {},
   "outputs": [],
   "source": [
    "df = pd.DataFrame(people)\n",
    "df.sort_index(inplace=False)"
   ]
  },
  {
   "cell_type": "markdown",
   "metadata": {},
   "source": [
    "# unsorted"
   ]
  },
  {
   "cell_type": "code",
   "execution_count": null,
   "metadata": {},
   "outputs": [],
   "source": [
    "df"
   ]
  },
  {
   "cell_type": "markdown",
   "metadata": {},
   "source": [
    "# from the lst vid"
   ]
  },
  {
   "cell_type": "code",
   "execution_count": null,
   "metadata": {},
   "outputs": [],
   "source": [
    "df.sort_index(inplace=True)"
   ]
  },
  {
   "cell_type": "code",
   "execution_count": null,
   "metadata": {},
   "outputs": [],
   "source": [
    "df"
   ]
  },
  {
   "cell_type": "markdown",
   "metadata": {},
   "source": [
    "# test columns 'last' is equal 'Doe'"
   ]
  },
  {
   "cell_type": "code",
   "execution_count": null,
   "metadata": {},
   "outputs": [],
   "source": [
    "df['last'] == 'Doe'"
   ]
  },
  {
   "cell_type": "markdown",
   "metadata": {},
   "source": [
    "# define a variable with the filter condition  "
   ]
  },
  {
   "cell_type": "code",
   "execution_count": null,
   "metadata": {},
   "outputs": [],
   "source": [
    "result_filter = (df['last'] == 'Doe')"
   ]
  },
  {
   "cell_type": "markdown",
   "metadata": {},
   "source": [
    "# call all df with the filter criteria"
   ]
  },
  {
   "cell_type": "markdown",
   "metadata": {},
   "source": [
    "<div class=\"alert alert-block alert-warning\"> \n",
    " filter is a python function\n",
    " </div>\n"
   ]
  },
  {
   "cell_type": "code",
   "execution_count": null,
   "metadata": {},
   "outputs": [],
   "source": [
    "df[result_filter]"
   ]
  },
  {
   "cell_type": "markdown",
   "metadata": {},
   "source": [
    "## another way for inline filtering - not nice"
   ]
  },
  {
   "cell_type": "code",
   "execution_count": null,
   "metadata": {},
   "outputs": [],
   "source": [
    "df[df['last'] == 'Doe']"
   ]
  },
  {
   "cell_type": "markdown",
   "metadata": {},
   "source": [
    "## filtering onces field of filter criteria e.g. 'email'"
   ]
  },
  {
   "cell_type": "code",
   "execution_count": null,
   "metadata": {},
   "outputs": [],
   "source": [
    "df.loc[result_filter,'email']"
   ]
  },
  {
   "cell_type": "markdown",
   "metadata": {},
   "source": [
    "## filter with keyword AND => & / OR => |"
   ]
  },
  {
   "cell_type": "code",
   "execution_count": null,
   "metadata": {},
   "outputs": [],
   "source": [
    "# you see two preference - interest of line do you look for / do you will select\n",
    "result= (df['last'] == 'Doe' ) & ( df['first'] == 'John' )"
   ]
  },
  {
   "cell_type": "markdown",
   "metadata": {},
   "source": [
    "## result"
   ]
  },
  {
   "cell_type": "code",
   "execution_count": null,
   "metadata": {},
   "outputs": [],
   "source": [
    "# all field\n",
    "df.loc[result,]\n"
   ]
  },
  {
   "cell_type": "code",
   "execution_count": null,
   "metadata": {},
   "outputs": [],
   "source": [
    "# only field last\n",
    "df.index\n",
    "df.loc[result]"
   ]
  },
  {
   "cell_type": "markdown",
   "metadata": {},
   "source": [
    "# or operator => |\n",
    "# we will select all columns with las equal 'Schafer' OR equal 'John'"
   ]
  },
  {
   "cell_type": "code",
   "execution_count": null,
   "metadata": {},
   "outputs": [],
   "source": [
    "result= (df['last'] == 'Schafer' ) | ( df['first'] == 'John' )"
   ]
  },
  {
   "cell_type": "code",
   "execution_count": null,
   "metadata": {},
   "outputs": [],
   "source": [
    "df.loc[result]"
   ]
  },
  {
   "cell_type": "markdown",
   "metadata": {},
   "source": [
    "# if we want select that NOT match this (opposite)  we add a sign tilde  => - before the result"
   ]
  },
  {
   "cell_type": "code",
   "execution_count": null,
   "metadata": {},
   "outputs": [],
   "source": [
    "df.loc[~result,'email']"
   ]
  },
  {
   "cell_type": "markdown",
   "metadata": {},
   "source": [
    "# start with large data frame and use filter condition"
   ]
  },
  {
   "cell_type": "code",
   "execution_count": null,
   "metadata": {},
   "outputs": [],
   "source": [
    "import pandas as pd\n",
    "\n",
    "# source link see yt video description\n",
    "# df= pd.read_csv('data/survey_results_public.csv')\n",
    "# add follow see Timestamp in the vid 8.46\n",
    "\n",
    "# set the index of index.col - first column of each table\n",
    "df_data= pd.read_csv('data/survey_results_public.csv',index_col='ResponseId')\n",
    "df_schema = pd.read_csv('data/survey_results_schema.csv',index_col='qname')\n",
    "\n",
    "\n",
    "# set max columns and rows\n",
    "df_data_rows =len(df_data) \n",
    "pd.set_option('display.max_rows',df_data_rows)\n",
    "\n",
    "df_data_columns = df_data.shape[0]\n",
    "pd.set_option('display.max_columns',df_data_columns)"
   ]
  },
  {
   "cell_type": "code",
   "execution_count": null,
   "metadata": {},
   "outputs": [],
   "source": [
    "df_data.head()"
   ]
  },
  {
   "cell_type": "markdown",
   "metadata": {},
   "source": [
    "# covert column 'Age' to type 'int'"
   ]
  },
  {
   "cell_type": "code",
   "execution_count": null,
   "metadata": {},
   "outputs": [],
   "source": [
    "# pd.to_numeric(ser, errors ='ignore')\n",
    "\n",
    "df_data = df_data.astype({'YearsCode': int} , errors ='ignore')"
   ]
  },
  {
   "cell_type": "markdown",
   "metadata": {},
   "source": [
    "# show type of columns 'YearsCode'"
   ]
  },
  {
   "cell_type": "code",
   "execution_count": null,
   "metadata": {},
   "outputs": [],
   "source": [
    "df_data.loc['YearsCode']"
   ]
  },
  {
   "cell_type": "markdown",
   "metadata": {},
   "source": [
    "# [Replace NaN with Zero](https://sparkbyexamples.com/pandas/pandas-replace-nan-values-by-zero-in-a-column/#:~:text=The%20primary%20method%20to%20replace,fillna(0)%20.)"
   ]
  },
  {
   "cell_type": "markdown",
   "metadata": {},
   "source": [
    "# create a filter for column 'YearsCode'"
   ]
  },
  {
   "cell_type": "code",
   "execution_count": null,
   "metadata": {},
   "outputs": [],
   "source": [
    "years_code = (df_data['YearsCode'] > 10)"
   ]
  },
  {
   "cell_type": "code",
   "execution_count": null,
   "metadata": {},
   "outputs": [],
   "source": [
    "pd.set_option('display.max_rows',100)\n",
    "df_data['YearsCode']"
   ]
  },
  {
   "cell_type": "markdown",
   "metadata": {},
   "source": [
    "# [You can modify the existing DataFrame itself by using inplace param](https://sparkbyexamples.com/pandas/pandas-replace-nan-values-by-zero-in-a-column/#:~:text=The%20primary%20method%20to%20replace,fillna(0)%20.)"
   ]
  },
  {
   "cell_type": "code",
   "execution_count": null,
   "metadata": {},
   "outputs": [],
   "source": [
    "df_data.fillna(0,inplace=True)"
   ]
  },
  {
   "cell_type": "code",
   "execution_count": null,
   "metadata": {},
   "outputs": [],
   "source": [
    "df_data['YearsCode']"
   ]
  },
  {
   "cell_type": "code",
   "execution_count": 144,
   "metadata": {},
   "outputs": [
    {
     "name": "stderr",
     "output_type": "stream",
     "text": [
      "/tmp/ipykernel_32517/504936387.py:19: FutureWarning: errors='ignore' is deprecated and will raise in a future version. Use to_numeric without passing `errors` and catch exceptions explicitly instead\n",
      "  df_data = df_data.assign(**df_data['YearsCode'].apply(pd.to_numeric, errors='ignore'))\n"
     ]
    },
    {
     "ename": "TypeError",
     "evalue": "keywords must be strings",
     "output_type": "error",
     "traceback": [
      "\u001b[31m---------------------------------------------------------------------------\u001b[39m",
      "\u001b[31mTypeError\u001b[39m                                 Traceback (most recent call last)",
      "\u001b[36mCell\u001b[39m\u001b[36m \u001b[39m\u001b[32mIn[144]\u001b[39m\u001b[32m, line 19\u001b[39m\n\u001b[32m     11\u001b[39m column_type = df_data[\u001b[33m'\u001b[39m\u001b[33mYearsCode\u001b[39m\u001b[33m'\u001b[39m].dtypes\n\u001b[32m     12\u001b[39m \u001b[38;5;66;03m# [FROM HERE](https://saturncloud.io/blog/how-to-convert-a-float64-column-to-int64-in-pandas/#:~:text=You%20can%20use%20the%20astype,column%20to%20an%20int64%20column.&text=In%20this%20code%2C%20we%20first,A%20to%20an%20int64%20column.)\u001b[39;00m\n\u001b[32m     13\u001b[39m \n\u001b[32m     14\u001b[39m \u001b[38;5;66;03m# df['A'] = df['A'].astype('int64')\u001b[39;00m\n\u001b[32m   (...)\u001b[39m\u001b[32m     17\u001b[39m \n\u001b[32m     18\u001b[39m \u001b[38;5;66;03m# only convert columns A and C\u001b[39;00m\n\u001b[32m---> \u001b[39m\u001b[32m19\u001b[39m df_data = \u001b[43mdf_data\u001b[49m\u001b[43m.\u001b[49m\u001b[43massign\u001b[49m\u001b[43m(\u001b[49m\u001b[43m*\u001b[49m\u001b[43m*\u001b[49m\u001b[43mdf_data\u001b[49m\u001b[43m[\u001b[49m\u001b[33;43m'\u001b[39;49m\u001b[33;43mYearsCode\u001b[39;49m\u001b[33;43m'\u001b[39;49m\u001b[43m]\u001b[49m\u001b[43m.\u001b[49m\u001b[43mapply\u001b[49m\u001b[43m(\u001b[49m\u001b[43mpd\u001b[49m\u001b[43m.\u001b[49m\u001b[43mto_numeric\u001b[49m\u001b[43m,\u001b[49m\u001b[43m \u001b[49m\u001b[43merrors\u001b[49m\u001b[43m=\u001b[49m\u001b[33;43m'\u001b[39;49m\u001b[33;43mignore\u001b[39;49m\u001b[33;43m'\u001b[39;49m\u001b[43m)\u001b[49m\u001b[43m)\u001b[49m\n",
      "\u001b[31mTypeError\u001b[39m: keywords must be strings"
     ]
    }
   ],
   "source": [
    "# Replace on single column\n",
    "\n",
    "df_data['YearsCode'].fillna(0)\n",
    "\n",
    "r = df_data['YearsCode'].fillna(0,inplace=True)\n",
    "\n",
    "# df_data.fillna(0,inplace=True)\n",
    "type(r)\n",
    "df_data['YearsCode'].head()\n",
    "\n",
    "column_type = df_data['YearsCode'].dtypes\n",
    "# [FROM HERE](https://saturncloud.io/blog/how-to-convert-a-float64-column-to-int64-in-pandas/#:~:text=You%20can%20use%20the%20astype,column%20to%20an%20int64%20column.&text=In%20this%20code%2C%20we%20first,A%20to%20an%20int64%20column.)\n",
    "\n",
    "# df['A'] = df['A'].astype('int64')\n",
    "# df['YearsCode'] = df_data['YearsCode'].astype('int64')\n",
    "# df.dtypes\n",
    "\n",
    "# only convert columns A and C\n",
    "df_data = df_data.assign(**df_data['YearsCode'].apply(pd.to_numeric, errors='ignore'))\n"
   ]
  },
  {
   "cell_type": "markdown",
   "metadata": {},
   "source": [
    "# compare condition "
   ]
  },
  {
   "cell_type": "code",
   "execution_count": null,
   "metadata": {},
   "outputs": [],
   "source": [
    "# Why TypeError - \"'>' not supported between instances of 'str' and 'int'\"\n",
    "# senior_dev = (df_data['YearsCode'] > 10)"
   ]
  }
 ],
 "metadata": {
  "kernelspec": {
   "display_name": ".venv",
   "language": "python",
   "name": "python3"
  },
  "language_info": {
   "codemirror_mode": {
    "name": "ipython",
    "version": 3
   },
   "file_extension": ".py",
   "mimetype": "text/x-python",
   "name": "python",
   "nbconvert_exporter": "python",
   "pygments_lexer": "ipython3",
   "version": "3.11.2"
  }
 },
 "nbformat": 4,
 "nbformat_minor": 2
}
